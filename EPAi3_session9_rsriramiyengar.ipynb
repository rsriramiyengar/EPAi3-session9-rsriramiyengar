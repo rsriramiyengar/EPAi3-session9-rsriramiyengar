{
  "nbformat": 4,
  "nbformat_minor": 0,
  "metadata": {
    "colab": {
      "name": "EPAi3_session9_rsriramiyengar.ipynb",
      "provenance": [],
      "collapsed_sections": []
    },
    "kernelspec": {
      "name": "python3",
      "display_name": "Python 3"
    }
  },
  "cells": [
    {
      "cell_type": "markdown",
      "metadata": {
        "id": "cwLSTiEN0_LM"
      },
      "source": [
        "**Assignment for Session 9 - Tuples & Named Tuples and Modules**"
      ]
    },
    {
      "cell_type": "markdown",
      "metadata": {
        "id": "x6oWwa_2w_8i"
      },
      "source": [
        "***Part-1-Code ***"
      ]
    },
    {
      "cell_type": "code",
      "metadata": {
        "id": "Y3sj179w06Ex",
        "colab": {
          "base_uri": "https://localhost:8080/"
        },
        "outputId": "a250d169-e336-4987-d66e-f0171d0304c7"
      },
      "source": [
        "!pip install Faker\n",
        "from collections import namedtuple\n",
        "from faker import Faker\n",
        "import datetime\n",
        "from datetime import date \n",
        "from datetime import time \n",
        "import operator \n",
        "fake = Faker()\n",
        "from decimal import Decimal\n",
        "from decimal import getcontext\n",
        "import decimal\n",
        "import contextlib \n",
        "import time\n",
        "from collections import Counter\n",
        "import math\n",
        "from math import isclose\n",
        "\n",
        "import random\n",
        "from random  import uniform\n",
        "from random import randint\n",
        "from prettytable import PrettyTable\n",
        "\n",
        "\n",
        "\n"
      ],
      "execution_count": 1,
      "outputs": [
        {
          "output_type": "stream",
          "text": [
            "Requirement already satisfied: Faker in /usr/local/lib/python3.7/dist-packages (8.10.0)\n",
            "Requirement already satisfied: text-unidecode==1.3 in /usr/local/lib/python3.7/dist-packages (from Faker) (1.3)\n",
            "Requirement already satisfied: python-dateutil>=2.4 in /usr/local/lib/python3.7/dist-packages (from Faker) (2.8.1)\n",
            "Requirement already satisfied: six>=1.5 in /usr/local/lib/python3.7/dist-packages (from python-dateutil>=2.4->Faker) (1.15.0)\n"
          ],
          "name": "stdout"
        }
      ]
    },
    {
      "cell_type": "code",
      "metadata": {
        "id": "LMe5SG061Pky"
      },
      "source": [
        "def calculateage(birthDate: \"date of birthof person\") -> \"Returns Age in years\":\n",
        "    today = date.today()\n",
        "    age = today.year - birthDate.year - ((today.month, today.day) < (birthDate.month, birthDate.day))\n",
        "    return age\n",
        "\n",
        "class Fprofile(namedtuple('Fprofile', ('name', 'sex', 'birthdate', 'blood_group', 'current_location'))):\n",
        "    @classmethod\n",
        "    def calculateage(cls, fprofile) -> \"Returns Age in years\":\n",
        "        'This class method calculates age of given list of profile'\n",
        "        birthDate = fprofile.birthdate\n",
        "        today = date.today()\n",
        "        age = today.year - birthDate.year - ((today.month, today.day) < (birthDate.month, birthDate.day))\n",
        "        return age\n",
        "\n",
        "    @classmethod\n",
        "    def aver_age(cls, fprofiles) -> 'This class method calculates average age of given list of profiles':\n",
        "        'This class method calculates average age of given list of profiles'\n",
        "        if not all(isinstance(fprofile, cls) for fprofile in fprofiles):\n",
        "            raise ValueError('All items in sequence must be of type {}'.format(cls.__name__))\n",
        "        return sum(cls.calculateage(fprofile) for fprofile in fprofiles) / len(fprofiles)\n",
        "\n",
        "    @classmethod\n",
        "    def max_age(cls, fprofiles) -> \"Returns Max age of given list of profiles\":\n",
        "        'This class method calculates max age of given list of profiles'\n",
        "        if not all(isinstance(fprofile, cls) for fprofile in fprofiles):\n",
        "            raise ValueError('All items in sequence must be of type {}'.format(cls.__name__))\n",
        "        return max(cls.calculateage(fprofile) for fprofile in fprofiles)\n",
        "\n",
        "    @classmethod\n",
        "    def mean_current_location(cls, fprofiles) -> \"Returns Mean current Location of given list of profiles\":\n",
        "        \"Returns Mean current Location of given list of profiles\"\n",
        "        if not all(isinstance(fprofile, cls) for fprofile in fprofiles):\n",
        "            raise ValueError('All items in sequence must be of type {}'.format(cls.__name__))\n",
        "        mean_lat = sum(fprofile.current_location[0] for fprofile in fprofiles) / len(fprofiles)\n",
        "        mean_long = sum(fprofile.current_location[1] for fprofile in fprofiles) / len(fprofiles)\n",
        "        return (mean_lat, mean_long)\n",
        "\n",
        "    @classmethod\n",
        "    def largest_blood_type(cls, fprofiles) -> \"Returns Largest Blood Group of given list of profiles\":\n",
        "        'This class method returns largest blood group of given list of profiles'\n",
        "        if not all(isinstance(fprofile, cls) for fprofile in fprofiles):\n",
        "            raise ValueError('All items in sequence must be of type {}'.format(cls.__name__))\n",
        "        Blood_group_count = Counter(fprofile.blood_group for fprofile in fprofiles)\n",
        "        return max(Blood_group_count, key=Blood_group_count.get)\n",
        "\n",
        "Fprofile.__doc__ = 'Profile of Employees/User'\n",
        "Fprofile.name.__doc__ = 'Name of Employees/User '\n",
        "Fprofile.sex.__doc__ = 'Sex of Employees/User'\n",
        "Fprofile.birthdate.__doc__ = 'Date of birth of Employees/User'\n",
        "Fprofile.blood_group.__doc__ = 'Blood group of Employees/User'\n",
        "Fprofile.current_location.__doc__ = 'Current location of Employees/User'"
      ],
      "execution_count": 2,
      "outputs": []
    },
    {
      "cell_type": "code",
      "metadata": {
        "id": "zooyPewY0hik"
      },
      "source": [
        "def function_profile_creation(count: \"Number of profile to be created using faker\"):\n",
        "    \"Returns  profile stored in named tuple and dictionary in list for user defined count\"\n",
        "    LIST_tuple = []\n",
        "    LIST_dict = []\n",
        "    for n in range(count):\n",
        "        x = fake.profile()\n",
        "        # Tuple based\n",
        "        LIST_tuple.append(Fprofile(x['name'], x['sex'], x['birthdate'], x['blood_group'], x['current_location']))\n",
        "        # Dictionary based\n",
        "        LIST_dict.append({'name': x['name'], 'sex': x['sex'], 'birthdate': x['birthdate'], 'blood_group': x['blood_group'],'current_location': x['current_location']})\n",
        "    return tuple(LIST_tuple), LIST_dict"
      ],
      "execution_count": 3,
      "outputs": []
    },
    {
      "cell_type": "code",
      "metadata": {
        "id": "bQQYj4Ie0hHF"
      },
      "source": [
        "def function_profile_data_tuple_process(LIST: \"List of Named tuple\"):\n",
        "    \"\"\"\n",
        "    This function returns following for given list of profiles stores in Namedtuple\n",
        "    - Average age in given set of profiles\n",
        "    - Age of oldest person in given set of profiles\n",
        "    -mean location of  in given set of profiles\n",
        "    -largest_blood_type  in given set of profiles\n",
        "    \"\"\"\n",
        "    average_age = Fprofile.aver_age(LIST)\n",
        "    oldest_person_age = Fprofile.max_age(LIST)\n",
        "    mean_current_location = Fprofile.mean_current_location(LIST)\n",
        "    largest_blood_type = Fprofile.largest_blood_type(LIST)\n",
        "    return average_age, oldest_person_age, mean_current_location, largest_blood_type"
      ],
      "execution_count": 4,
      "outputs": []
    },
    {
      "cell_type": "code",
      "metadata": {
        "id": "urJ1x6Xt1HN6"
      },
      "source": [
        "def function_profile_data_dict_process(LIST_d: \"List of dictionary\"):\n",
        "    \"\"\"\n",
        "    This function returns following for given list of profiles stores in Dictionary\n",
        "    - Average age in given set of profiles\n",
        "    - Age of oldest person in given set of profiles\n",
        "    -mean location of  in given set of profiles\n",
        "    -largest_blood_type  in given set of profiles\n",
        "    \"\"\"\n",
        "    oldest_person_age_d = 0\n",
        "    blood_group_count_d = {'O+': 0, 'B-': 0, 'AB+': 0, 'B+': 0, 'O-': 0, 'AB-': 0, 'A-': 0, 'A+': 0}\n",
        "    average_age_d = 0\n",
        "    mean_current_location_d = (0, 0)\n",
        "    average_age_d = 0\n",
        "    Num_profile = len(LIST_d)\n",
        "    for n in range(Num_profile):\n",
        "        ##Max age\n",
        "        age = calculateage(LIST_d[n]['birthdate'])\n",
        "        oldest_person_age_d = max(oldest_person_age_d, age)\n",
        "        ##average age\n",
        "        age = calculateage(LIST_d[n]['birthdate'])\n",
        "        average_age_d = (average_age_d * n + age) / (n + 1)\n",
        "        ##mean_current_location\n",
        "        mean_current_location_d = Decimal(\n",
        "            (mean_current_location_d[0] * n + LIST_d[n]['current_location'][0]) / (n + 1)), Decimal(\n",
        "            (mean_current_location_d[1] * n + LIST_d[n]['current_location'][1]) / (n + 1))\n",
        "        ###Max Blood group\n",
        "        blood_group_count_d[LIST_d[n]['blood_group']] = blood_group_count_d[LIST_d[n]['blood_group']] + 1\n",
        "    largest_blood_type_d = (max(blood_group_count_d.items(), key=operator.itemgetter(1))[0])\n",
        "    return average_age_d, oldest_person_age_d, mean_current_location_d, largest_blood_type_d"
      ],
      "execution_count": 5,
      "outputs": []
    },
    {
      "cell_type": "code",
      "metadata": {
        "id": "c6cFtI98IrTR"
      },
      "source": [
        "Stock_weight_norm=namedtuple('Stock_weight_norm', ('name','nw' ))\n",
        "Stock_weight_norm.__doc__ = 'Stock Weight Details for Day trade'\n",
        "Stock_weight_norm.name.__doc__ = 'Name of Stock'\n",
        "Stock_weight_norm.nw.__doc__ = 'Normilized weight of Stock that day'\n",
        "\n",
        "class Stock(namedtuple('Stock', ('name', 'symbol','open', 'high', 'close','low','weight' ))):\n",
        "    \n",
        "    @classmethod\n",
        "    def normilized_weight(cls,stocks) -> \"returns normalized values for \":\n",
        "        'This class method calculates normalized weights for given set of weights '         \n",
        "        if not all(isinstance(stock, cls) for stock in stocks):\n",
        "            raise ValueError('All items in sequence must be of type {}'.format(cls.__name__))\n",
        "        Total_weight=sum(stock[6] for stock in stocks) \n",
        "        normilized_weights=[Stock_weight_norm(stock.name,(stock.weight/Total_weight)) for stock in stocks]        \n",
        "        return tuple(normilized_weights)\n",
        "\n",
        "    @classmethod\n",
        "    def stock_ex_value(cls,stocks) -> \"returns normalized values for \":\n",
        "        'This class method calculates normalized weights for given set of weights '         \n",
        "        if not all(isinstance(stock, cls) for stock in stocks):\n",
        "            raise ValueError('All items in sequence must be of type {}'.format(cls.__name__))\n",
        "        normilized_weights=cls.normilized_weight(stocks)\n",
        "        Exch_open=sum(s.open*norw.nw if s.name==norw.name else \"error\" for s,norw in zip(stocks,normilized_weights))\n",
        "        Exch_high=sum(s.high*norw.nw if s.name==norw.name else \"error\"for s,norw in zip(stocks,normilized_weights))\n",
        "        Exch_close=sum(s.close*norw.nw if s.name==norw.name else \"error\"for s,norw in zip(stocks,normilized_weights))\n",
        "        Exch_low=sum(s.low*norw.nw if s.name==norw.name else \"error\"for s,norw in zip(stocks,normilized_weights))        \n",
        "        return Exch_open,Exch_high,Exch_close,Exch_low\n",
        "\n",
        "Stock.__doc__ = 'Stock Detail for Day trade'\n",
        "Stock.name.__doc__ = 'Name of Stock'\n",
        "Stock.symbol.__doc__ = 'symbol of Stock'\n",
        "Stock.open.__doc__ = 'Opening Value of Stock that day'\n",
        "Stock.high.__doc__ = 'highest Value of Stock that day'\n",
        "Stock.close.__doc__ = 'closing highest Value of Stock that day'\n",
        "Stock.low.__doc__ = 'closing lowest Value of Stock that day'\n",
        "Stock.weight.__doc__ = 'weight Stock that day'"
      ],
      "execution_count": 6,
      "outputs": []
    },
    {
      "cell_type": "code",
      "metadata": {
        "id": "QrUS-p-svBdP"
      },
      "source": [
        "\n",
        "def function_fstock_creation(count: \"Number of stock to be created using faker\"):\n",
        "    \"Returns  profile stored in named tuple in list for user defined count\"\n",
        "    Stock_list=[]\n",
        "    Stock_list_dict=[]\n",
        "    for n in range(count):    \n",
        "        name=fake.company()\n",
        "        symbol=name[:3]\n",
        "        low=uniform(100,5000)\n",
        "        high=uniform(low,5000)    \n",
        "        open=uniform(low,high)    \n",
        "        close=uniform(low,high) \n",
        "        weight=uniform(0.8,1.2)    \n",
        "        Stock_list.append(Stock(name,symbol,open,high,close,low,weight))  \n",
        "        Stock_list_dict.append({\"name\": name,\"symbol\" : symbol,\"open\":open,\"high\":high,\"close\":close,\"low\":low,\"weight\":weight})  \n",
        "    return tuple(Stock_list),Stock_list_dict"
      ],
      "execution_count": 7,
      "outputs": []
    },
    {
      "cell_type": "markdown",
      "metadata": {
        "id": "E5BGMU3fwev1"
      },
      "source": [
        "***Part-2-Test*** "
      ]
    },
    {
      "cell_type": "markdown",
      "metadata": {
        "id": "5rXEpOEAa8lm"
      },
      "source": [
        "\n",
        "\n",
        "\n",
        "**Below calculation is for Named Tuple**\n",
        "\n",
        "\n"
      ]
    },
    {
      "cell_type": "code",
      "metadata": {
        "colab": {
          "base_uri": "https://localhost:8080/"
        },
        "id": "YQy1RR-6xT7i",
        "outputId": "0f231ac8-76b7-4c62-d4cc-6f8670829422"
      },
      "source": [
        "tuple_NT, LIST_dict = function_profile_creation(1)\n",
        "print(f\"Test-1-Name is  getting stored properly-{tuple_NT[0][0] == LIST_dict[0]['name']}\")\n",
        "print(f\"Test-2-sex of profile is  getting stored properly-{tuple_NT[0][1] == LIST_dict[0]['sex']}\")\n",
        "print(f\"Test-3-birthdate of profile is  getting stored properly-{tuple_NT[0][2] == LIST_dict[0]['birthdate']}\")\n",
        "print(f\"Test-4-blood_group of profile is  getting stored properly-{tuple_NT[0][3] == LIST_dict[0]['blood_group']}\")\n",
        "print(f\"Test-5-current_location' of profile is  getting stored properly-{tuple_NT[0][4] == LIST_dict[0]['current_location']}\")"
      ],
      "execution_count": 8,
      "outputs": [
        {
          "output_type": "stream",
          "text": [
            "Test-1-Name is  getting stored properly-True\n",
            "Test-2-sex of profile is  getting stored properly-True\n",
            "Test-3-birthdate of profile is  getting stored properly-True\n",
            "Test-4-blood_group of profile is  getting stored properly-True\n",
            "Test-5-current_location' of profile is  getting stored properly-True\n"
          ],
          "name": "stdout"
        }
      ]
    },
    {
      "cell_type": "code",
      "metadata": {
        "id": "FQ1vLQG4BpBn"
      },
      "source": [
        "Num_profile=10000\n",
        "Num_run=1000\n",
        "tuple_NT,LIST_dict=function_profile_creation(Num_profile)"
      ],
      "execution_count": 9,
      "outputs": []
    },
    {
      "cell_type": "code",
      "metadata": {
        "id": "s01llBpyBY7W",
        "colab": {
          "base_uri": "https://localhost:8080/"
        },
        "outputId": "e19f72ed-ad06-4337-d800-9e4e73932a6f"
      },
      "source": [
        "start1 = time.perf_counter()\n",
        "for n in range(Num_run):    \n",
        "    average_age,oldest_person_age,mean_current_location,largest_blood_type=function_profile_data_tuple_process(tuple_NT)\n",
        "end1 = time.perf_counter()\n",
        "delta1 = (end1-start1)/Num_run\n",
        "print(f\"Average age of list is {average_age:0.2f}\")\n",
        "print(f\"Age of oldest persion is {oldest_person_age} in yrs\")\n",
        "print(f\"Mean average location is {mean_current_location}\")\n",
        "print(f\"Largest blood group type is {largest_blood_type}\")\n",
        "print(f\"Average run Time  is {delta1}\")"
      ],
      "execution_count": 10,
      "outputs": [
        {
          "output_type": "stream",
          "text": [
            "Average age of list is 57.64\n",
            "Age of oldest persion is 115 in yrs\n",
            "Mean average location is (Decimal('0.4019603273'), Decimal('0.2468459501'))\n",
            "Largest blood group type is AB-\n",
            "Average run Time  is 0.052954516513000274\n"
          ],
          "name": "stdout"
        }
      ]
    },
    {
      "cell_type": "markdown",
      "metadata": {
        "id": "oyi-p5qL4U1w"
      },
      "source": [
        "**Below calculation is for Dictionary**"
      ]
    },
    {
      "cell_type": "code",
      "metadata": {
        "id": "ggxlPcmy4Ujf",
        "colab": {
          "base_uri": "https://localhost:8080/"
        },
        "outputId": "08e243c7-6a2c-47dd-b83d-993ac393a6ca"
      },
      "source": [
        "start2 = time.perf_counter()\n",
        "for n in range(Num_run):\n",
        "    average_age_d,oldest_person_age_d,mean_current_location_d,largest_blood_type_d=function_profile_data_dict_process(LIST_dict)\n",
        "end2 = time.perf_counter()\n",
        "delta2 = (end2-start2)/Num_run\n",
        "print(f\"Average age of list is {average_age_d:0.2f}\")\n",
        "print(f\"Age of oldest persion is {oldest_person_age_d} in yrs\")\n",
        "print(f\"Mean average location is {mean_current_location_d}\")\n",
        "print(f\"Largest blood group type is {largest_blood_type_d}\")\n",
        "print(f\"Average Time Taken  is {delta2}\")"
      ],
      "execution_count": 11,
      "outputs": [
        {
          "output_type": "stream",
          "text": [
            "Average age of list is 57.64\n",
            "Age of oldest persion is 115 in yrs\n",
            "Mean average location is (Decimal('0.4019603273000000000000000007'), Decimal('0.2468459501000000000000000074'))\n",
            "Largest blood group type is AB-\n",
            "Average Time Taken  is 0.06317705310200017\n"
          ],
          "name": "stdout"
        }
      ]
    },
    {
      "cell_type": "code",
      "metadata": {
        "id": "Lowq7Khbmrxs",
        "colab": {
          "base_uri": "https://localhost:8080/"
        },
        "outputId": "af0a839d-ea2b-48c8-8ec6-09948d1527c0"
      },
      "source": [
        "print(f'Test-1-Average Age is correctly caculated and stored in Tuple-{isclose(average_age,average_age_d)}')\n",
        "print(f'Test-2-Oldest person age is correctly caculated and stored in Tuple-{oldest_person_age==oldest_person_age_d}')\n",
        "print(f'Test-3-mean_current_location_Part-1 is correctly caculated and stored in Tuple-{isclose(mean_current_location[0],mean_current_location_d[0])}')\n",
        "print(f'Test-4-mean_current_location_Part-2 is correctly caculated and stored in Tuple-{isclose(mean_current_location[1],mean_current_location_d[1])}')\n",
        "print(f'Test-5-largest_blood is correctly caculated and stored in Tuple-{largest_blood_type==largest_blood_type_d}')\n",
        "print(f'Test-6-Named tuple is faster than dictionary by {((delta2/delta1-1)*100):0.2f}% ')"
      ],
      "execution_count": 12,
      "outputs": [
        {
          "output_type": "stream",
          "text": [
            "Test-1-Average Age is correctly caculated and stored in Tuple-True\n",
            "Test-2-Oldest person age is correctly caculated and stored in Tuple-True\n",
            "Test-3-mean_current_location_Part-1 is correctly caculated and stored in Tuple-True\n",
            "Test-4-mean_current_location_Part-2 is correctly caculated and stored in Tuple-True\n",
            "Test-5-largest_blood is correctly caculated and stored in Tuple-True\n",
            "Test-6-Named tuple is faster than dictionary by 19.30% \n"
          ],
          "name": "stdout"
        }
      ]
    },
    {
      "cell_type": "markdown",
      "metadata": {
        "id": "Q5z0feojIf_e"
      },
      "source": [
        "***Fake Stock Exchange***"
      ]
    },
    {
      "cell_type": "code",
      "metadata": {
        "id": "-F6Z7lkvydhY"
      },
      "source": [
        "Stock_tuple, Stock_list_dict = function_fstock_creation(1)\n",
        "\n",
        "stock_count=100\n",
        "Stock_100,Stock_list_dic=function_fstock_creation(stock_count)   \n",
        "\n",
        "nw_tab=Stock.normilized_weight(Stock_100)\n",
        "Exch_open,Exch_high,Exch_close,Exch_low=Stock.stock_ex_value(Stock_100)\n",
        "\n",
        "P_Table=PrettyTable(['name', 'symbol','open', 'high', 'close','low','weight',\"Nor_Weight\",\"c_open\",\"c_high\",\"c_close\",\"c_low\"])       \n",
        "\n",
        "Exch_open1,Exch_high1,Exch_close1,Exch_low1=0,0,0,0\n",
        "\n",
        "for n in range(stock_count):\n",
        "    P_Table.add_row([Stock_100[n][0],Stock_100[n][1],Stock_100[n][2],round(Stock_100[n][3],2),round(Stock_100[n][4],2),round(Stock_100[n][5],2),round(Stock_100[n][6],2),\n",
        "                    round(nw_tab[n][1],2),round(Stock_100[n][2]*nw_tab[n][1],2),round(Stock_100[n][3]*nw_tab[n][1],2),\n",
        "                    round(Stock_100[n][4]*nw_tab[n][1],2),round(Stock_100[n][5]*nw_tab[n][1],2)])\n",
        "    Exch_open1+=Stock_100[n][2]*nw_tab[n][1]\n",
        "    Exch_high1+=Stock_100[n][3]*nw_tab[n][1]\n",
        "    Exch_close1+=Stock_100[n][4]*nw_tab[n][1]\n",
        "    Exch_low1+=Stock_100[n][5]*nw_tab[n][1]\n",
        "\n",
        "P_Table.add_row([\"-\",\"-\",\"-\",\"-\",\"-\",\"-\",\"-\",\"Total=\",round(Exch_open,3),round(Exch_high,3),round(Exch_close,3),round(Exch_low,3)])\n",
        "\n"
      ],
      "execution_count": 13,
      "outputs": []
    },
    {
      "cell_type": "code",
      "metadata": {
        "id": "xvwHzKfUZZYM",
        "colab": {
          "base_uri": "https://localhost:8080/"
        },
        "outputId": "b31cb031-764e-4e98-eaa4-7a032f333aab"
      },
      "source": [
        "print(f\"Test-1-Name is getting stored properly-{Stock_tuple[0][0] == Stock_list_dict[0]['name']}\")\n",
        "print(f\"Test-2-symbol is getting stored properly-{Stock_tuple[0][1] == Stock_list_dict[0]['symbol']}\")\n",
        "print(f\"Test-3-open is getting stored properly-{Stock_tuple[0][2] == Stock_list_dict[0]['open']}\")\n",
        "print(f\"Test-4-high is  getting stored properly-{Stock_tuple[0][3] == Stock_list_dict[0]['high']}\")\n",
        "print(f\"Test-5-close is getting stored properly-{Stock_tuple[0][4] == Stock_list_dict[0]['close']}\")\n",
        "print(f\"Test-6-low is getting stored properly-{Stock_tuple[0][5] == Stock_list_dict[0]['low']}\")\n",
        "print(f\"Test-7-weight is getting stored properly-{Stock_tuple[0][6] == Stock_list_dict[0]['weight']}\")\n",
        "print(f\"Test-8-calculation of Exchange open value cannot be different between tupple and dict-{isclose(Exch_open, Exch_open1)}\")\n",
        "print(f\"Test-9-calculation of Exchange  high value cannot be different between tupple and dict-{isclose(Exch_high, Exch_high1)}\")\n",
        "print(f\"Test-10-calculation of Exchange close value cannot be different between tupple and dict-{isclose(Exch_close, Exch_close1)}\")\n",
        "print(f\"Test-11-calculation of Exchange low value cannot be different between tupple and dict-{isclose(Exch_low, Exch_low1)}\")\n",
        "\n",
        "###\n",
        "print(f\"Test-12-Exchange open cannot be less than exchange_low-{Exch_open>=Exch_low }\")\n",
        "print(f\"Test-13-Exchange close cannot be less than exchange_low-{Exch_close>=Exch_low }\")\n",
        "print(f\"Test-14-Exchange open cannot be higher than exchange_high-{Exch_open<=Exch_high }\")\n",
        "print(f\"Test-15-Exchange close cannot be higher than exchange_high-{Exch_close<=Exch_high }\")\n",
        "\n",
        "\n",
        "\n",
        "\n",
        "print(\"Stock Markert Day stats\") \n",
        "print(P_Table)\n",
        "\n",
        "\n",
        "\n",
        "\n",
        "\n"
      ],
      "execution_count": 14,
      "outputs": [
        {
          "output_type": "stream",
          "text": [
            "Test-1-Name is getting stored properly-True\n",
            "Test-2-symbol is getting stored properly-True\n",
            "Test-3-open is getting stored properly-True\n",
            "Test-4-high is  getting stored properly-True\n",
            "Test-5-close is getting stored properly-True\n",
            "Test-6-low is getting stored properly-True\n",
            "Test-7-weight is getting stored properly-True\n",
            "Test-8-calculation of Exchange open value cannot be different between tupple and dict-True\n",
            "Test-9-calculation of Exchange  high value cannot be different between tupple and dict-True\n",
            "Test-10-calculation of Exchange close value cannot be different between tupple and dict-True\n",
            "Test-11-calculation of Exchange low value cannot be different between tupple and dict-True\n",
            "Test-12-Exchange open cannot be less than exchange_low-True\n",
            "Test-13-Exchange close cannot be less than exchange_low-True\n",
            "Test-14-Exchange open cannot be higher than exchange_high-True\n",
            "Test-15-Exchange close cannot be higher than exchange_high-True\n",
            "Stock Markert Day stats\n",
            "+---------------------------------+--------+--------------------+---------+---------+---------+--------+------------+----------+----------+----------+----------+\n",
            "|               name              | symbol |        open        |   high  |  close  |   low   | weight | Nor_Weight |  c_open  |  c_high  | c_close  |  c_low   |\n",
            "+---------------------------------+--------+--------------------+---------+---------+---------+--------+------------+----------+----------+----------+----------+\n",
            "|          Moore and Sons         |  Moo   | 2755.0648977756055 | 3209.18 | 2663.99 | 2500.07 |  1.01  |    0.01    |  27.68   |  32.25   |  26.77   |  25.12   |\n",
            "|             Pena Ltd            |  Pen   | 1308.5485523733362 | 1845.14 | 1732.85 | 1178.72 |  1.17  |    0.01    |  15.28   |  21.54   |  20.23   |  13.76   |\n",
            "|           Parker-James          |  Par   | 4248.287846366395  | 4606.73 | 3976.77 | 2665.73 |  0.87  |    0.01    |  36.86   |  39.97   |  34.51   |  23.13   |\n",
            "|    Gomez, Hicks and Williams    |  Gom   | 3715.681724261491  | 4673.22 | 3654.89 | 3320.92 |  0.83  |    0.01    |  30.65   |  38.55   |  30.15   |  27.39   |\n",
            "|            Perez PLC            |  Per   | 2979.926946256346  | 3781.62 | 3236.72 | 2450.59 |  1.16  |    0.01    |  34.41   |  43.67   |  37.38   |   28.3   |\n",
            "|        Thompson and Sons        |  Tho   | 3978.7787067992954 | 4994.47 | 3804.28 | 2648.42 |  0.87  |    0.01    |  34.65   |  43.49   |  33.13   |  23.06   |\n",
            "|           Humphrey PLC          |  Hum   | 4154.399110798095  | 4997.98 | 1803.16 | 1169.62 |  1.07  |    0.01    |  44.28   |  53.27   |  19.22   |  12.47   |\n",
            "|          Brown-Trujillo         |  Bro   | 1463.9207305459688 | 1595.03 | 1453.16 | 1435.22 |  0.89  |    0.01    |  13.02   |  14.19   |  12.93   |  12.77   |\n",
            "|           Adams-Welch           |  Ada   | 3866.2403855553443 |  4997.7 | 4976.36 | 2490.71 |  0.96  |    0.01    |   36.9   |  47.69   |  47.49   |  23.77   |\n",
            "|    Thompson, Torres and Burke   |  Tho   | 2572.204600039506  | 2622.31 | 2511.17 | 2007.14 |  1.12  |    0.01    |  28.81   |  29.37   |  28.12   |  22.48   |\n",
            "|          Rivas and Sons         |  Riv   | 524.4702249577861  | 3891.82 | 2088.23 |  153.85 |  1.06  |    0.01    |   5.55   |  41.18   |   22.1   |   1.63   |\n",
            "| Washington, Cantrell and Castro |  Was   | 1081.878392092142  | 3281.23 | 1514.71 |  812.6  |  1.03  |    0.01    |  11.12   |  33.73   |  15.57   |   8.35   |\n",
            "|     Tanner, Shields and Leon    |  Tan   | 3544.9872241136754 | 4424.76 | 1460.91 | 1389.03 |  1.04  |    0.01    |  36.89   |  46.05   |   15.2   |  14.45   |\n",
            "|      Holt, Sharp and Pitts      |  Hol   | 1368.5643882063023 | 1712.54 |  581.11 |  549.74 |  1.0   |    0.01    |  13.59   |  17.01   |   5.77   |   5.46   |\n",
            "|          Torres-Johnson         |  Tor   | 4977.980568288709  | 4991.66 | 4946.64 | 4813.96 |  1.18  |    0.01    |  58.65   |  58.81   |  58.28   |  56.71   |\n",
            "|            Bates Ltd            |  Bat   | 699.4688718594085  | 1194.06 |  727.67 |  144.59 |  1.17  |    0.01    |   8.15   |  13.91   |   8.48   |   1.68   |\n",
            "|            Brown Inc            |  Bro   | 2988.0824768136476 | 3020.45 |  2992.2 | 2967.81 |  1.1   |    0.01    |   32.9   |  33.26   |  32.95   |  32.68   |\n",
            "|    House, Archer and Garrett    |  Hou   | 4284.635538219407  |  4708.3 | 4570.31 | 4046.55 |  1.01  |    0.01    |  43.21   |  47.48   |  46.09   |  40.81   |\n",
            "|    Kennedy, Avila and Coleman   |  Ken   | 1735.6317878504456 | 4667.29 |  3625.4 | 1596.67 |  1.01  |    0.01    |  17.41   |  46.82   |  36.36   |  16.02   |\n",
            "|            Lane Group           |  Lan   | 4682.841958757266  | 4983.93 | 4909.38 | 4253.77 |  0.96  |    0.01    |  44.61   |  47.47   |  46.76   |  40.52   |\n",
            "|     Miller, Kelly and Huber     |  Mil   | 367.59755320683024 |  668.01 |  575.45 |  286.67 |  0.82  |    0.01    |   3.0    |   5.45   |   4.7    |   2.34   |\n",
            "|            Bauer PLC            |  Bau   | 1555.4098049378451 | 4822.91 | 3858.69 | 1432.26 |  0.93  |    0.01    |  14.49   |  44.93   |  35.94   |  13.34   |\n",
            "|          Kelly-Stewart          |  Kel   | 3375.6322803227285 | 4800.99 | 3200.19 | 2148.77 |  1.17  |    0.01    |  39.48   |  56.15   |  37.43   |  25.13   |\n",
            "|         Newman and Sons         |  New   | 3318.7124127578445 | 4568.89 | 3942.79 | 2470.48 |  0.93  |    0.01    |  30.86   |  42.48   |  36.66   |  22.97   |\n",
            "|           White-Chavez          |  Whi   | 936.6776502775253  | 2416.67 | 2230.73 |  575.9  |  0.82  |    0.01    |   7.63   |  19.67   |  18.16   |   4.69   |\n",
            "|      Moore, Wright and Frey     |  Moo   | 3362.6889133466602 | 3988.27 | 3562.67 | 2656.63 |  1.04  |    0.01    |  34.98   |  41.49   |  37.06   |  27.64   |\n",
            "|   Salazar, Ramirez and Turner   |  Sal   | 2227.0158979566063 | 2240.13 | 2234.92 | 2220.81 |  0.85  |    0.01    |  18.86   |  18.98   |  18.93   |  18.81   |\n",
            "|          Lewis-Johnson          |  Lew   | 1242.4086792210833 | 1582.87 | 1260.99 |  115.3  |  1.06  |    0.01    |  13.14   |  16.74   |  13.34   |   1.22   |\n",
            "|    Carson, Hunter and Schultz   |  Car   | 1026.8454396691177 |  2064.6 | 1778.15 |  295.68 |  0.9   |    0.01    |   9.23   |  18.57   |  15.99   |   2.66   |\n",
            "|          Bell and Sons          |  Bel   | 4590.978334419053  | 4890.82 | 4344.22 | 4316.66 |  1.04  |    0.01    |  47.51   |  50.61   |  44.95   |  44.67   |\n",
            "|   Terrell, Holmes and Robinson  |  Ter   | 3786.6356237658824 | 4326.13 | 3701.35 | 3562.77 |  0.92  |    0.01    |  34.89   |  39.86   |   34.1   |  32.82   |\n",
            "|      Lopez, Fisher and Paul     |  Lop   | 4003.7411374583235 | 4775.92 |  2689.9 | 2025.79 |  1.12  |    0.01    |  44.86   |  53.52   |  30.14   |   22.7   |\n",
            "|           Carlson Inc           |  Car   | 2725.0704242965594 | 4544.26 | 2933.36 |  815.67 |  1.06  |    0.01    |   28.9   |  48.19   |  31.11   |   8.65   |\n",
            "|         Erickson-Burgess        |  Eri   | 2869.6300668436716 | 3648.48 | 3025.17 | 2223.18 |  0.85  |    0.01    |   24.2   |  30.77   |  25.51   |  18.75   |\n",
            "|           Luna-Clarke           |  Lun   | 2371.5890739987417 | 2831.38 | 1671.21 | 1486.87 |  0.83  |    0.01    |  19.58   |  23.38   |   13.8   |  12.28   |\n",
            "|             Cruz PLC            |  Cru   | 4868.849533309488  | 4967.98 | 4895.44 | 4868.71 |  0.97  |    0.01    |  47.29   |  48.25   |  47.55   |  47.29   |\n",
            "|     Cox, Wilson and Mckinney    |  Cox   | 1655.8140345268207 | 1716.32 | 1495.02 | 1397.58 |  1.1   |    0.01    |   18.2   |  18.86   |  16.43   |  15.36   |\n",
            "|    Adams, Greene and Aguilar    |  Ada   | 3718.122619053119  | 4137.85 | 3293.35 | 2053.51 |  1.16  |    0.01    |  43.08   |  47.94   |  38.16   |  23.79   |\n",
            "|           Barron Group          |  Bar   | 1606.8274237201588 | 2039.97 | 1543.32 |  657.29 |  1.04  |    0.01    |  16.73   |  21.24   |  16.07   |   6.84   |\n",
            "|           Mccarthy Inc          |  Mcc   |  1885.34606100413  | 2030.69 | 1851.12 | 1632.97 |  1.12  |    0.01    |  21.07   |  22.69   |  20.68   |  18.25   |\n",
            "|    Gallegos, Carney and Lynn    |  Gal   | 3639.542041180461  | 3694.86 | 3365.19 | 3295.26 |  0.82  |    0.01    |  29.65   |   30.1   |  27.42   |  26.85   |\n",
            "|    Romero, Rangel and Werner    |  Rom   | 4383.120870329119  | 4457.52 | 4396.41 | 4382.01 |  0.83  |    0.01    |  36.48   |   37.1   |  36.59   |  36.47   |\n",
            "|          Wise and Sons          |  Wis   |  3246.07453215286  |  3686.4 |  3329.4 | 2949.95 |  0.87  |    0.01    |   28.3   |  32.14   |  29.03   |  25.72   |\n",
            "|         Jackson and Sons        |  Jac   | 2949.5089069633304 | 3288.65 | 3107.94 | 2483.53 |  1.1   |    0.01    |  32.39   |  36.12   |  34.13   |  27.27   |\n",
            "| Williams, Wilkerson and Johnson |  Wil   | 3554.1757129527564 | 3610.28 |  3606.3 | 3369.42 |  0.95  |    0.01    |  33.82   |  34.35   |  34.31   |  32.06   |\n",
            "|    Taylor, Diaz and Henderson   |  Tay   | 1607.4746607732595 | 3174.83 | 1757.42 |  517.74 |  0.92  |    0.01    |  14.82   |  29.26   |   16.2   |   4.77   |\n",
            "|     Patrick, Smith and Smith    |  Pat   | 3491.1745317382847 | 4162.34 | 3002.35 | 2876.45 |  1.16  |    0.01    |  40.45   |  48.22   |  34.78   |  33.33   |\n",
            "|         Johnson-Stafford        |  Joh   | 3361.351337076347  | 4174.97 | 4056.65 | 2651.49 |  1.18  |    0.01    |  39.39   |  48.92   |  47.54   |  31.07   |\n",
            "|     Pierce, Smith and Travis    |  Pie   | 1842.6494789713975 | 2443.37 | 1279.35 | 1017.15 |  1.12  |    0.01    |   20.6   |  27.31   |   14.3   |  11.37   |\n",
            "|         Harrison-Herring        |  Har   | 700.8901493827312  | 2050.52 |  1396.4 |  111.95 |  0.94  |    0.01    |   6.54   |  19.13   |  13.03   |   1.04   |\n",
            "|          Brown and Sons         |  Bro   | 4361.257587212889  | 4465.23 | 4233.39 | 4165.18 |  0.9   |    0.01    |  39.24   |  40.17   |  38.09   |  37.47   |\n",
            "|           Carter-Wolf           |  Car   | 2067.9129413274577 | 3111.86 |  3086.5 | 1402.09 |  1.17  |    0.01    |  24.12   |  36.29   |  35.99   |  16.35   |\n",
            "|          Hensley-Flores         |  Hen   | 1738.6815222681205 | 2230.36 | 2184.52 | 1521.44 |  0.96  |    0.01    |  16.67   |  21.38   |  20.94   |  14.59   |\n",
            "|     Boyer, Peterson and Mora    |  Boy   | 2291.967845691189  | 3671.41 | 2562.59 |  986.84 |  1.15  |    0.01    |  26.29   |  42.11   |  29.39   |  11.32   |\n",
            "|           Hayes-Steele          |  Hay   | 974.3843707882697  | 4685.72 | 2145.62 |  259.0  |  0.85  |    0.01    |   8.28   |  39.82   |  18.23   |   2.2    |\n",
            "|            Brooks Ltd           |  Bro   | 4251.886812991821  |  4291.3 | 4248.07 | 4229.24 |  0.91  |    0.01    |  38.41   |  38.77   |  38.38   |  38.21   |\n",
            "|   Bonilla, Freeman and Barnes   |  Bon   | 4521.5933338787345 | 4756.08 | 2481.95 | 2177.84 |  0.9   |    0.01    |  40.61   |  42.72   |  22.29   |  19.56   |\n",
            "|           Davis-Martin          |  Dav   | 2695.945971670119  | 2808.34 | 2659.27 | 2517.83 |  0.95  |    0.01    |  25.59   |  26.65   |  25.24   |   23.9   |\n",
            "|   Fernandez, Mack and Goodwin   |  Fer   | 2618.639977570639  | 3923.37 | 3262.52 | 2413.15 |  1.08  |    0.01    |  28.09   |  42.09   |   35.0   |  25.89   |\n",
            "|        Martinez-Robinson        |  Mar   | 3713.898923761241  | 3767.01 | 3765.58 | 3533.74 |  0.84  |    0.01    |  31.11   |  31.55   |  31.54   |   29.6   |\n",
            "|            Gould Ltd            |  Gou   | 4424.989862385595  | 4892.53 | 3332.44 | 2821.45 |  0.87  |    0.01    |  38.57   |  42.65   |  29.05   |  24.59   |\n",
            "|      Riggs, Barry and Jones     |  Rig   | 4840.510821201708  | 4855.59 | 4836.43 | 4778.66 |  1.14  |    0.01    |   54.9   |  55.07   |  54.85   |  54.19   |\n",
            "|            Hunter-Gay           |  Hun   | 4064.2545108536415 | 4541.75 | 4123.68 | 4028.96 |  1.17  |    0.01    |  47.32   |  52.88   |  48.01   |  46.91   |\n",
            "|     Long, Jones and Williams    |  Lon   | 1327.0641780886012 | 1508.09 |  839.51 |  498.6  |  1.0   |    0.01    |  13.24   |  15.05   |   8.38   |   4.98   |\n",
            "|    Cobb, Williams and Bowers    |  Cob   | 4233.752627592688  | 4283.88 | 3950.34 | 3706.44 |  1.1   |    0.01    |  46.48   |  47.03   |  43.37   |  40.69   |\n",
            "|         Rodriguez-Myers         |  Rod   | 4181.763921589682  | 4830.88 | 3909.15 | 2393.25 |  1.1   |    0.01    |  46.06   |  53.21   |  43.06   |  26.36   |\n",
            "|      Davis, King and Nunez      |  Dav   | 2392.4448287061755 | 3776.96 | 3045.12 | 2364.48 |  1.02  |    0.01    |  24.23   |  38.26   |  30.85   |  23.95   |\n",
            "|           Gonzalez PLC          |  Gon   | 1762.3546430319025 | 2041.11 | 1488.33 |  553.87 |  0.89  |    0.01    |  15.66   |  18.14   |  13.23   |   4.92   |\n",
            "|         Gonzales-Leblanc        |  Gon   | 4336.308135253415  | 4482.46 |  2764.8 | 2364.56 |  0.94  |    0.01    |  40.74   |  42.11   |  25.98   |  22.22   |\n",
            "|             Sims PLC            |  Sim   | 318.7685399161084  |  761.95 |  189.92 |  162.6  |  0.87  |    0.01    |   2.75   |   6.57   |   1.64   |   1.4    |\n",
            "|           Estes-Parker          |  Est   | 1988.1988105012665 | 2217.46 | 2175.47 |  588.43 |  0.9   |    0.01    |  17.85   |  19.91   |  19.54   |   5.28   |\n",
            "|          Robbins-Davis          |  Rob   | 4331.836175656286  |  4538.8 | 4278.75 | 3582.09 |  1.01  |    0.01    |  43.65   |  45.73   |  43.11   |  36.09   |\n",
            "|       Fitzpatrick-Sandoval      |  Fit   | 4885.058107696489  | 4977.39 | 4142.88 | 3776.18 |  1.2   |    0.01    |  58.44   |  59.55   |  49.56   |  45.17   |\n",
            "|         Jenkins and Sons        |  Jen   | 4509.2710140129475 | 4520.24 | 4504.72 | 4495.55 |  0.99  |    0.01    |  44.65   |  44.76   |  44.61   |  44.51   |\n",
            "|     Lloyd, Mcclain and Black    |  Llo   | 3371.951510720612  | 3957.97 |  3362.2 | 2058.76 |  0.92  |    0.01    |   31.0   |  36.39   |  30.91   |  18.93   |\n",
            "|         Carroll and Sons        |  Car   | 3077.2364075048777 |  3141.5 | 2111.11 | 2070.98 |  0.96  |    0.01    |  29.32   |  29.93   |  20.11   |  19.73   |\n",
            "|     Johnson, Walton and King    |  Joh   | 3873.8139969864997 |  4261.7 | 3943.99 |  943.51 |  1.15  |    0.01    |  44.62   |  49.09   |  45.43   |  10.87   |\n",
            "|          Simon-Thompson         |  Sim   | 3985.2594320970084 | 4173.22 | 4140.32 | 3697.12 |  1.17  |    0.01    |  46.42   |  48.61   |  48.23   |  43.07   |\n",
            "|            May-Clark            |  May   | 2866.8719301016154 | 3610.83 | 2015.06 | 1637.64 |  1.06  |    0.01    |  30.44   |  38.34   |   21.4   |  17.39   |\n",
            "|         Burton-Martinez         |  Bur   | 4704.150500661815  | 4726.25 | 4630.85 | 4611.07 |  1.08  |    0.01    |  50.77   |  51.01   |  49.98   |  49.76   |\n",
            "|             King Ltd            |  Kin   | 1774.0103033774342 | 3043.62 | 2255.73 |  881.1  |  1.11  |    0.01    |   19.7   |   33.8   |  25.05   |   9.78   |\n",
            "|    Leon, Caldwell and Turner    |  Leo   | 2508.4685326974827 | 4053.09 | 2250.57 |  889.27 |  1.14  |    0.01    |  28.46   |  45.99   |  25.54   |  10.09   |\n",
            "|           Gross-Wagner          |  Gro   | 4625.775417647108  |  4824.0 | 4605.77 | 4564.45 |  0.92  |    0.01    |  42.56   |  44.38   |  42.37   |  41.99   |\n",
            "|           Williams Ltd          |  Wil   | 2854.571952687711  | 4338.07 | 3161.66 |  207.83 |  1.0   |    0.01    |  28.39   |  43.14   |  31.44   |   2.07   |\n",
            "|    Howard, Harris and Raymond   |  How   | 3305.790528238395  | 4402.84 | 4276.85 |  3230.7 |  0.89  |    0.01    |  29.27   |  38.98   |  37.87   |  28.61   |\n",
            "|             Mack Ltd            |  Mac   | 2932.938455949527  | 3422.23 | 1735.32 | 1638.83 |  0.83  |    0.01    |  24.15   |  28.18   |  14.29   |  13.49   |\n",
            "|           Lopez-Flynn           |  Lop   | 955.6851196433907  | 1271.65 | 1009.68 |  777.13 |  1.03  |    0.01    |   9.86   |  13.12   |  10.42   |   8.02   |\n",
            "|            Chang-Tran           |  Cha   | 4699.315731977261  | 4738.47 | 4732.08 |  4583.1 |  0.88  |    0.01    |  41.37   |  41.71   |  41.65   |  40.34   |\n",
            "|           Mendez-Smith          |  Men   | 3828.577577356985  | 3917.41 | 3104.05 | 2615.43 |  0.83  |    0.01    |  31.51   |  32.24   |  25.55   |  21.53   |\n",
            "|           Dickson Inc           |  Dic   | 4218.7177668941085 |  4590.1 | 4464.83 | 4190.46 |  1.08  |    0.01    |  45.44   |  49.44   |  48.09   |  45.13   |\n",
            "|           Taylor Group          |  Tay   | 4712.857336840912  | 4886.91 | 4785.89 | 4695.97 |  1.2   |    0.01    |  56.17   |  58.25   |  57.04   |  55.97   |\n",
            "|            Munoz PLC            |  Mun   | 1281.1644089599076 | 4118.45 | 3081.98 | 1246.96 |  0.86  |    0.01    |  11.04   |  35.47   |  26.55   |  10.74   |\n",
            "|           Cook-Walker           |  Coo   | 3541.353730130158  | 3864.75 | 3666.99 | 3034.29 |  0.98  |    0.01    |  34.67   |  37.84   |   35.9   |  29.71   |\n",
            "|       Garcia, Diaz and Cox      |  Gar   | 2662.063394992808  | 3039.82 | 2909.82 | 2473.11 |  0.94  |    0.01    |  24.95   |  28.49   |  27.27   |  23.18   |\n",
            "|            Rogers-Li            |  Rog   | 2369.217370006068  |  4862.9 | 4575.28 | 1061.22 |  1.16  |    0.01    |   27.5   |  56.44   |   53.1   |  12.32   |\n",
            "|      Lewis, Fisher and Boyd     |  Lew   | 3610.7739638533326 | 3694.88 | 3285.48 | 3121.68 |  0.86  |    0.01    |  31.08   |  31.81   |  28.28   |  26.87   |\n",
            "|             Dunn LLC            |  Dun   | 3917.3745837084393 | 4958.96 | 4384.92 | 3834.27 |  1.05  |    0.01    |  41.21   |  52.16   |  46.13   |  40.33   |\n",
            "|           Bates Group           |  Bat   | 3165.3897685857855 | 3445.42 | 2890.33 | 2699.21 |  1.03  |    0.01    |  32.43   |   35.3   |  29.62   |  27.66   |\n",
            "|         Blevins-Edwards         |  Ble   | 3952.6510637161236 | 4790.99 | 4457.91 | 3723.71 |  1.13  |    0.01    |  44.52   |  53.96   |  50.21   |  41.94   |\n",
            "|           Lucas-Roach           |  Luc   | 2228.848753300449  | 4480.99 | 1768.46 |  757.82 |  0.93  |    0.01    |  20.75   |  41.72   |  16.47   |   7.06   |\n",
            "|                -                |   -    |         -          |    -    |    -    |    -    |   -    |   Total=   | 3005.551 | 3720.389 | 3040.712 | 2287.643 |\n",
            "+---------------------------------+--------+--------------------+---------+---------+---------+--------+------------+----------+----------+----------+----------+\n"
          ],
          "name": "stdout"
        }
      ]
    }
  ]
}